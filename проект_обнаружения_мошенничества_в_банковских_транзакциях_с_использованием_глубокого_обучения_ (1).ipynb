{
  "nbformat": 4,
  "nbformat_minor": 0,
  "metadata": {
    "colab": {
      "provenance": []
    },
    "kernelspec": {
      "name": "python3",
      "display_name": "Python 3"
    },
    "language_info": {
      "name": "python"
    },
    "widgets": {
      "application/vnd.jupyter.widget-state+json": {
        "e18b11393074486db90a4ece8789f5ff": {
          "model_module": "@jupyter-widgets/controls",
          "model_name": "VBoxModel",
          "model_module_version": "1.5.0",
          "state": {
            "_dom_classes": [
              "widget-interact"
            ],
            "_model_module": "@jupyter-widgets/controls",
            "_model_module_version": "1.5.0",
            "_model_name": "VBoxModel",
            "_view_count": null,
            "_view_module": "@jupyter-widgets/controls",
            "_view_module_version": "1.5.0",
            "_view_name": "VBoxView",
            "box_style": "",
            "children": [
              "IPY_MODEL_5bed95771583477793f75ce2b87593fd",
              "IPY_MODEL_5554721af4154edfa1dc8b4cff87d077"
            ],
            "layout": "IPY_MODEL_30c9a71143214ed4b918ea007d40dc21"
          }
        },
        "5bed95771583477793f75ce2b87593fd": {
          "model_module": "@jupyter-widgets/controls",
          "model_name": "IntSliderModel",
          "model_module_version": "1.5.0",
          "state": {
            "_dom_classes": [],
            "_model_module": "@jupyter-widgets/controls",
            "_model_module_version": "1.5.0",
            "_model_name": "IntSliderModel",
            "_view_count": null,
            "_view_module": "@jupyter-widgets/controls",
            "_view_module_version": "1.5.0",
            "_view_name": "IntSliderView",
            "continuous_update": true,
            "description": "n_estimators",
            "description_tooltip": null,
            "disabled": false,
            "layout": "IPY_MODEL_02c4daa840c8412caa9400b2985db358",
            "max": 200,
            "min": 10,
            "orientation": "horizontal",
            "readout": true,
            "readout_format": "d",
            "step": 10,
            "style": "IPY_MODEL_c2c87a6640554f72990d933ee57150b5",
            "value": 100
          }
        },
        "5554721af4154edfa1dc8b4cff87d077": {
          "model_module": "@jupyter-widgets/output",
          "model_name": "OutputModel",
          "model_module_version": "1.0.0",
          "state": {
            "_dom_classes": [],
            "_model_module": "@jupyter-widgets/output",
            "_model_module_version": "1.0.0",
            "_model_name": "OutputModel",
            "_view_count": null,
            "_view_module": "@jupyter-widgets/output",
            "_view_module_version": "1.0.0",
            "_view_name": "OutputView",
            "layout": "IPY_MODEL_8c3671af35bb4b289d888ce32fb46ffd",
            "msg_id": "",
            "outputs": [
              {
                "output_type": "stream",
                "name": "stdout",
                "text": [
                  "Точность модели с 100 деревьями: 1.00\n"
                ]
              }
            ]
          }
        },
        "30c9a71143214ed4b918ea007d40dc21": {
          "model_module": "@jupyter-widgets/base",
          "model_name": "LayoutModel",
          "model_module_version": "1.2.0",
          "state": {
            "_model_module": "@jupyter-widgets/base",
            "_model_module_version": "1.2.0",
            "_model_name": "LayoutModel",
            "_view_count": null,
            "_view_module": "@jupyter-widgets/base",
            "_view_module_version": "1.2.0",
            "_view_name": "LayoutView",
            "align_content": null,
            "align_items": null,
            "align_self": null,
            "border": null,
            "bottom": null,
            "display": null,
            "flex": null,
            "flex_flow": null,
            "grid_area": null,
            "grid_auto_columns": null,
            "grid_auto_flow": null,
            "grid_auto_rows": null,
            "grid_column": null,
            "grid_gap": null,
            "grid_row": null,
            "grid_template_areas": null,
            "grid_template_columns": null,
            "grid_template_rows": null,
            "height": null,
            "justify_content": null,
            "justify_items": null,
            "left": null,
            "margin": null,
            "max_height": null,
            "max_width": null,
            "min_height": null,
            "min_width": null,
            "object_fit": null,
            "object_position": null,
            "order": null,
            "overflow": null,
            "overflow_x": null,
            "overflow_y": null,
            "padding": null,
            "right": null,
            "top": null,
            "visibility": null,
            "width": null
          }
        },
        "02c4daa840c8412caa9400b2985db358": {
          "model_module": "@jupyter-widgets/base",
          "model_name": "LayoutModel",
          "model_module_version": "1.2.0",
          "state": {
            "_model_module": "@jupyter-widgets/base",
            "_model_module_version": "1.2.0",
            "_model_name": "LayoutModel",
            "_view_count": null,
            "_view_module": "@jupyter-widgets/base",
            "_view_module_version": "1.2.0",
            "_view_name": "LayoutView",
            "align_content": null,
            "align_items": null,
            "align_self": null,
            "border": null,
            "bottom": null,
            "display": null,
            "flex": null,
            "flex_flow": null,
            "grid_area": null,
            "grid_auto_columns": null,
            "grid_auto_flow": null,
            "grid_auto_rows": null,
            "grid_column": null,
            "grid_gap": null,
            "grid_row": null,
            "grid_template_areas": null,
            "grid_template_columns": null,
            "grid_template_rows": null,
            "height": null,
            "justify_content": null,
            "justify_items": null,
            "left": null,
            "margin": null,
            "max_height": null,
            "max_width": null,
            "min_height": null,
            "min_width": null,
            "object_fit": null,
            "object_position": null,
            "order": null,
            "overflow": null,
            "overflow_x": null,
            "overflow_y": null,
            "padding": null,
            "right": null,
            "top": null,
            "visibility": null,
            "width": null
          }
        },
        "c2c87a6640554f72990d933ee57150b5": {
          "model_module": "@jupyter-widgets/controls",
          "model_name": "SliderStyleModel",
          "model_module_version": "1.5.0",
          "state": {
            "_model_module": "@jupyter-widgets/controls",
            "_model_module_version": "1.5.0",
            "_model_name": "SliderStyleModel",
            "_view_count": null,
            "_view_module": "@jupyter-widgets/base",
            "_view_module_version": "1.2.0",
            "_view_name": "StyleView",
            "description_width": "",
            "handle_color": null
          }
        },
        "8c3671af35bb4b289d888ce32fb46ffd": {
          "model_module": "@jupyter-widgets/base",
          "model_name": "LayoutModel",
          "model_module_version": "1.2.0",
          "state": {
            "_model_module": "@jupyter-widgets/base",
            "_model_module_version": "1.2.0",
            "_model_name": "LayoutModel",
            "_view_count": null,
            "_view_module": "@jupyter-widgets/base",
            "_view_module_version": "1.2.0",
            "_view_name": "LayoutView",
            "align_content": null,
            "align_items": null,
            "align_self": null,
            "border": null,
            "bottom": null,
            "display": null,
            "flex": null,
            "flex_flow": null,
            "grid_area": null,
            "grid_auto_columns": null,
            "grid_auto_flow": null,
            "grid_auto_rows": null,
            "grid_column": null,
            "grid_gap": null,
            "grid_row": null,
            "grid_template_areas": null,
            "grid_template_columns": null,
            "grid_template_rows": null,
            "height": null,
            "justify_content": null,
            "justify_items": null,
            "left": null,
            "margin": null,
            "max_height": null,
            "max_width": null,
            "min_height": null,
            "min_width": null,
            "object_fit": null,
            "object_position": null,
            "order": null,
            "overflow": null,
            "overflow_x": null,
            "overflow_y": null,
            "padding": null,
            "right": null,
            "top": null,
            "visibility": null,
            "width": null
          }
        }
      }
    }
  },
  "cells": [
    {
      "cell_type": "code",
      "execution_count": 1,
      "metadata": {
        "id": "ifcOeyikR_eK"
      },
      "outputs": [],
      "source": [
        "import numpy as np\n",
        "import pandas as pd\n",
        "\n",
        "# Создание симулированных данных\n",
        "n_normal_transactions = 8000\n",
        "n_fraud_transactions = 200\n",
        "\n",
        "# Генерация данных для нормальных транзакций\n",
        "mean_normal = [100.0, 30.0, 400.0]\n",
        "std_normal = [20.0, 10.0, 50.0]\n",
        "normal_transactions = np.random.normal(mean_normal, std_normal, (n_normal_transactions, 3))\n",
        "\n",
        "# Генерация данных для мошеннических транзакций\n",
        "mean_fraud = [200.0, 10.0, 1000.0]\n",
        "std_fraud = [50.0, 5.0, 200.0]\n",
        "fraud_transactions = np.random.normal(mean_fraud, std_fraud, (n_fraud_transactions, 3))\n",
        "\n",
        "# Создание DataFrame\n",
        "columns = [\"amount\", \"time\", \"merchant_id\"]\n",
        "normal_df = pd.DataFrame(normal_transactions, columns=columns)\n",
        "fraud_df = pd.DataFrame(fraud_transactions, columns=columns)\n",
        "\n",
        "# Добавление метки \"is_fraud\" для обеих категорий транзакций\n",
        "normal_df[\"is_fraud\"] = 0\n",
        "fraud_df[\"is_fraud\"] = 1\n",
        "\n",
        "# Объединение данных\n",
        "data = pd.concat([normal_df, fraud_df], ignore_index=True)\n",
        "\n",
        "# Перемешивание данных\n",
        "data = data.sample(frac=1).reset_index(drop=True)\n",
        "\n",
        "# Сохранение данных в CSV\n",
        "data.to_csv(\"bank_transactions.csv\", index=False)\n"
      ]
    },
    {
      "cell_type": "code",
      "source": [
        "import numpy as np\n",
        "import pandas as pd\n",
        "from sklearn.model_selection import train_test_split\n",
        "from sklearn.preprocessing import StandardScaler\n",
        "from sklearn.metrics import classification_report\n",
        "import tensorflow as tf\n",
        "from tensorflow import keras\n",
        "from tensorflow.keras import layers\n",
        "\n",
        "# Создание симулированных данных\n",
        "n_normal_transactions = 8000\n",
        "n_fraud_transactions = 200\n",
        "\n",
        "# ... (предыдущий код для создания данных)\n",
        "\n",
        "# Разделение данных на обучающий и тестовый набор\n",
        "X = data.drop(\"is_fraud\", axis=1)\n",
        "y = data[\"is_fraud\"]\n",
        "\n",
        "X_train, X_test, y_train, y_test = train_test_split(X, y, test_size=0.2, random_state=42)\n",
        "\n",
        "# Предварительная обработка данных\n",
        "scaler = StandardScaler()\n",
        "X_train = scaler.fit_transform(X_train)\n",
        "X_test = scaler.transform(X_test)\n",
        "\n",
        "# Создание глубокой нейронной сети\n",
        "model = keras.Sequential([\n",
        "    layers.Input(shape=(X_train.shape[1],)),\n",
        "    layers.Dense(128, activation=\"relu\"),\n",
        "    layers.Dense(64, activation=\"relu\"),\n",
        "    layers.Dense(1, activation=\"sigmoid\")\n",
        "])\n",
        "\n",
        "model.compile(optimizer=\"adam\", loss=\"binary_crossentropy\", metrics=[\"accuracy\"])\n",
        "\n",
        "# Обучение модели\n",
        "model.fit(X_train, y_train, epochs=10, batch_size=32, validation_split=0.2)\n",
        "\n",
        "# Оценка производительности модели\n",
        "y_pred = model.predict(X_test)\n",
        "y_pred = (y_pred > 0.5)\n",
        "print(classification_report(y_test, y_pred))\n"
      ],
      "metadata": {
        "colab": {
          "base_uri": "https://localhost:8080/"
        },
        "id": "-mod6o5oS2e3",
        "outputId": "de3c368d-392a-4f21-b57a-a9eae96d2063"
      },
      "execution_count": 2,
      "outputs": [
        {
          "output_type": "stream",
          "name": "stdout",
          "text": [
            "Epoch 1/10\n",
            "164/164 [==============================] - 3s 8ms/step - loss: 0.1427 - accuracy: 0.9766 - val_loss: 0.0103 - val_accuracy: 0.9992\n",
            "Epoch 2/10\n",
            "164/164 [==============================] - 1s 3ms/step - loss: 0.0077 - accuracy: 0.9987 - val_loss: 0.0062 - val_accuracy: 0.9992\n",
            "Epoch 3/10\n",
            "164/164 [==============================] - 1s 4ms/step - loss: 0.0040 - accuracy: 0.9992 - val_loss: 0.0038 - val_accuracy: 0.9992\n",
            "Epoch 4/10\n",
            "164/164 [==============================] - 1s 4ms/step - loss: 0.0037 - accuracy: 0.9992 - val_loss: 0.0024 - val_accuracy: 0.9992\n",
            "Epoch 5/10\n",
            "164/164 [==============================] - 1s 4ms/step - loss: 0.0030 - accuracy: 0.9996 - val_loss: 0.0017 - val_accuracy: 0.9992\n",
            "Epoch 6/10\n",
            "164/164 [==============================] - 1s 3ms/step - loss: 0.0026 - accuracy: 0.9996 - val_loss: 0.0016 - val_accuracy: 0.9992\n",
            "Epoch 7/10\n",
            "164/164 [==============================] - 0s 2ms/step - loss: 0.0027 - accuracy: 0.9994 - val_loss: 0.0013 - val_accuracy: 0.9992\n",
            "Epoch 8/10\n",
            "164/164 [==============================] - 0s 2ms/step - loss: 0.0025 - accuracy: 0.9996 - val_loss: 9.2601e-04 - val_accuracy: 1.0000\n",
            "Epoch 9/10\n",
            "164/164 [==============================] - 0s 2ms/step - loss: 0.0025 - accuracy: 0.9996 - val_loss: 7.4503e-04 - val_accuracy: 1.0000\n",
            "Epoch 10/10\n",
            "164/164 [==============================] - 0s 2ms/step - loss: 0.0024 - accuracy: 0.9996 - val_loss: 0.0012 - val_accuracy: 1.0000\n",
            "52/52 [==============================] - 0s 1ms/step\n",
            "              precision    recall  f1-score   support\n",
            "\n",
            "           0       1.00      1.00      1.00      1600\n",
            "           1       1.00      1.00      1.00        40\n",
            "\n",
            "    accuracy                           1.00      1640\n",
            "   macro avg       1.00      1.00      1.00      1640\n",
            "weighted avg       1.00      1.00      1.00      1640\n",
            "\n"
          ]
        }
      ]
    },
    {
      "cell_type": "code",
      "source": [
        "import pandas as pd\n",
        "import numpy as np\n",
        "from sklearn.model_selection import train_test_split\n",
        "from sklearn.ensemble import RandomForestClassifier\n",
        "from sklearn.metrics import accuracy_score\n",
        "from ipywidgets import interact, widgets\n",
        "import matplotlib.pyplot as plt\n",
        "\n",
        "# Загрузка данных\n",
        "data = pd.read_csv(\"bank_transactions.csv\")\n",
        "\n",
        "# Разделение данных на обучающий и тестовый набор\n",
        "X = data.drop(\"is_fraud\", axis=1)\n",
        "y = data[\"is_fraud\"]\n",
        "X_train, X_test, y_train, y_test = train_test_split(X, y, test_size=0.2, random_state=42)\n",
        "\n",
        "# Создание функции для обучения модели\n",
        "def train_model(n_estimators=100):\n",
        "    model = RandomForestClassifier(n_estimators=n_estimators)\n",
        "    model.fit(X_train, y_train)\n",
        "    y_pred = model.predict(X_test)\n",
        "    accuracy = accuracy_score(y_test, y_pred)\n",
        "    return accuracy\n",
        "\n",
        "# Создание интерактивного виджета\n",
        "@interact(n_estimators=widgets.IntSlider(min=10, max=200, step=10, value=100))\n",
        "def update_model(n_estimators):\n",
        "    accuracy = train_model(n_estimators)\n",
        "    print(f'Точность модели с {n_estimators} деревьями: {accuracy:.2f}')\n",
        "\n",
        "# Визуализация данных\n",
        "fraud_counts = data[\"is_fraud\"].value_counts()\n",
        "plt.bar(fraud_counts.index, fraud_counts.values)\n",
        "plt.xlabel(\"Категория транзакции\")\n",
        "plt.ylabel(\"Количество\")\n",
        "plt.xticks([0, 1], labels=[\"Нормальные\", \"Мошеннические\"])\n",
        "plt.show()\n"
      ],
      "metadata": {
        "colab": {
          "base_uri": "https://localhost:8080/",
          "height": 498,
          "referenced_widgets": [
            "e18b11393074486db90a4ece8789f5ff",
            "5bed95771583477793f75ce2b87593fd",
            "5554721af4154edfa1dc8b4cff87d077",
            "30c9a71143214ed4b918ea007d40dc21",
            "02c4daa840c8412caa9400b2985db358",
            "c2c87a6640554f72990d933ee57150b5",
            "8c3671af35bb4b289d888ce32fb46ffd"
          ]
        },
        "id": "KsduReSHVOtG",
        "outputId": "fbeb5bfa-55de-448d-9b15-0df67a3293e5"
      },
      "execution_count": 9,
      "outputs": [
        {
          "output_type": "display_data",
          "data": {
            "text/plain": [
              "interactive(children=(IntSlider(value=100, description='n_estimators', max=200, min=10, step=10), Output()), _…"
            ],
            "application/vnd.jupyter.widget-view+json": {
              "version_major": 2,
              "version_minor": 0,
              "model_id": "e18b11393074486db90a4ece8789f5ff"
            }
          },
          "metadata": {}
        },
        {
          "output_type": "display_data",
          "data": {
            "text/plain": [
              "<Figure size 640x480 with 1 Axes>"
            ],
            "image/png": "[encoded data removed]"
          },
          "metadata": {}
        }
      ]
    }
  ]
}